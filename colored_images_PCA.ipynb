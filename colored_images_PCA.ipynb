{
 "cells": [
  {
   "cell_type": "code",
   "execution_count": null,
   "metadata": {},
   "outputs": [],
   "source": [
    "import matplotlib.pyplot as plt\n",
    "import numpy as np\n",
    "from scipy import linalg\n",
    "from sklearn.preprocessing import StandardScaler\n",
    "import glob\n",
    "\n",
    "images = []\n",
    "for img_path in glob.glob('/Users/ajoshi/Downloads/PCA_Experiment/pokemon_tiles/*.png'):\n",
    "    images.append(plt.imread(img_path))\n",
    "\n",
    "plt.figure(figsize=(20, 200))\n",
    "columns = 5\n",
    "\n",
    "for i, image in enumerate(images):\n",
    "    plt.subplot(len(images) / columns + 1, columns, i + 1)\n",
    "    plt.imshow(images[i])\n",
    "\n",
    "img_width, img_height, channels = images[0].shape"
   ]
  },
  {
   "cell_type": "code",
   "execution_count": null,
   "metadata": {},
   "outputs": [],
   "source": [
    "channel_1 = []\n",
    "for image in images:\n",
    "    channel_1.append(image[:, :, 0])\n",
    "    \n",
    "plt.figure(figsize=(20, 200))\n",
    "columns = 5\n",
    "\n",
    "for i, image in enumerate(images):\n",
    "    plt.subplot(len(channel_1) / columns + 1, columns, i + 1)\n",
    "    plt.imshow(channel_1[i])"
   ]
  },
  {
   "cell_type": "code",
   "execution_count": null,
   "metadata": {},
   "outputs": [],
   "source": [
    "channel_2 = []\n",
    "for image in images:\n",
    "    channel_2.append(image[:, :, 1])\n",
    "    \n",
    "plt.figure(figsize=(20, 200))\n",
    "columns = 5\n",
    "\n",
    "for i, image in enumerate(images):\n",
    "    plt.subplot(len(channel_2) / columns + 1, columns, i + 1)\n",
    "    plt.imshow(channel_2[i])"
   ]
  },
  {
   "cell_type": "code",
   "execution_count": null,
   "metadata": {},
   "outputs": [],
   "source": [
    "channel_3 = []\n",
    "for image in images:\n",
    "    channel_3.append(image[:, :, 0])\n",
    "    \n",
    "plt.figure(figsize=(20, 200))\n",
    "columns = 5\n",
    "\n",
    "for i, image in enumerate(images):\n",
    "    plt.subplot(len(channel_3) / columns + 1, columns, i + 1)\n",
    "    plt.imshow(channel_3[i])"
   ]
  },
  {
   "cell_type": "code",
   "execution_count": null,
   "metadata": {},
   "outputs": [],
   "source": [
    "channel_4 = []\n",
    "for image in images:\n",
    "    channel_4.append(image[:, :, 0])\n",
    "    \n",
    "plt.figure(figsize=(20, 200))\n",
    "columns = 5\n",
    "\n",
    "for i, image in enumerate(images):\n",
    "    plt.subplot(len(channel_4) / columns + 1, columns, i + 1)\n",
    "    plt.imshow(channel_4[i])"
   ]
  },
  {
   "cell_type": "code",
   "execution_count": null,
   "metadata": {},
   "outputs": [],
   "source": [
    "print(images[0])"
   ]
  },
  {
   "cell_type": "code",
   "execution_count": null,
   "metadata": {},
   "outputs": [],
   "source": [
    "mean_image = np.zeros((img_width, img_height, channels - 1), dtype=np.float)\n",
    "\n",
    "for image in images:\n",
    "    mean_image += image[:, :, 0:3]\n",
    "\n",
    "mean_image /= len(images)\n",
    "\n",
    "plt.figure(figsize=(20,200))\n",
    "columns = 5\n",
    "\n",
    "for i in range(1):\n",
    "    plt.subplot(1,1,1)\n",
    "    plt.imshow(mean_image)"
   ]
  },
  {
   "cell_type": "code",
   "execution_count": null,
   "metadata": {},
   "outputs": [],
   "source": [
    "sub_mean_images = []\n",
    "for image in images:\n",
    "    append_image = image[:,:,0:3] - mean_image\n",
    "    sub_mean_images.append(append_image)\n",
    "    \n",
    "sub_mean_images = np.array(sub_mean_images)\n",
    "print(sub_mean_images[0])\n",
    "\n",
    "plt.figure(figsize=(20,200))\n",
    "columns = 5\n",
    "\n",
    "for i, image in enumerate(images):\n",
    "    plt.subplot(len(sub_mean_images) / columns + 1, columns, i + 1)\n",
    "    plt.imshow(sub_mean_images[i])"
   ]
  },
  {
   "cell_type": "code",
   "execution_count": null,
   "metadata": {},
   "outputs": [],
   "source": [
    "unwound_images = []\n",
    "for image in sub_mean_images:\n",
    "    unwound_images.append(np.reshape(image, (img_width * img_height * (channels - 1), )))\n",
    "\n",
    "unwound_images = np.array(unwound_images)"
   ]
  },
  {
   "cell_type": "code",
   "execution_count": null,
   "metadata": {},
   "outputs": [],
   "source": []
  }
 ],
 "metadata": {
  "kernelspec": {
   "display_name": "Python 3",
   "language": "python",
   "name": "python3"
  },
  "language_info": {
   "codemirror_mode": {
    "name": "ipython",
    "version": 3
   },
   "file_extension": ".py",
   "mimetype": "text/x-python",
   "name": "python",
   "nbconvert_exporter": "python",
   "pygments_lexer": "ipython3",
   "version": "3.7.4"
  }
 },
 "nbformat": 4,
 "nbformat_minor": 2
}
