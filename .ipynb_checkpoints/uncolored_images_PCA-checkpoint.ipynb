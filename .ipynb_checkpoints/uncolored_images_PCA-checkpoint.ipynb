{
 "cells": [
  {
   "cell_type": "code",
   "execution_count": null,
   "metadata": {},
   "outputs": [],
   "source": [
    "import matplotlib.pyplot as plt\n",
    "import numpy as np\n",
    "from scipy import linalg\n",
    "from sklearn.preprocessing import StandardScaler\n",
    "import glob\n",
    "\n",
    "images = []\n",
    "for img_path in glob.glob('/Users/ajoshi/Downloads/PCA_Experiment/unpadded/*.pgm'):\n",
    "    images.append(plt.imread(img_path))    \n",
    "    \n",
    "plt.figure(figsize=(20, 132))\n",
    "columns = 5;\n",
    "\n",
    "for i, image in enumerate(images):\n",
    "    plt.subplot(len(images) / columns + 1, columns, i + 1)\n",
    "    plt.imshow(image, cmap=\"gist_gray\")\n",
    "    \n",
    "img_width, img_height = images[0].shape\n"
   ]
  },
  {
   "cell_type": "code",
   "execution_count": null,
   "metadata": {},
   "outputs": [],
   "source": [
    "mean_image = np.zeros((img_width, img_height), dtype=np.float)\n",
    "\n",
    "for image in images:\n",
    "    mean_image += image\n",
    "    \n",
    "mean_image /= 165\n",
    "\n",
    "plt.figure(figsize=(20, 132))\n",
    "columns = 1\n",
    "\n",
    "for i in range(1):\n",
    "    plt.subplot(1, 1, 1)\n",
    "    plt.imshow(mean_image, cmap=\"gist_gray\")"
   ]
  },
  {
   "cell_type": "code",
   "execution_count": null,
   "metadata": {},
   "outputs": [],
   "source": [
    "new_images = []\n",
    "\n",
    "for image in images:\n",
    "    to_append_image = image - mean_image\n",
    "    new_images.append(np.reshape(to_append_image, (img_width * img_height, )))\n",
    "    \n",
    "new_images = np.array(new_images)\n",
    "\n",
    "plt.figure(figsize=(20, 132))\n",
    "columns = 5;\n",
    "\n",
    "for i, image in enumerate(new_images):\n",
    "    plt.subplot(len(new_images) / columns + 1, columns, i + 1)\n",
    "    plt.imshow(np.reshape(image, (img_width, img_height)), cmap=\"gist_gray\")"
   ]
  },
  {
   "cell_type": "code",
   "execution_count": null,
   "metadata": {},
   "outputs": [],
   "source": [
    "plt.figure(figsize=(20, 132))\n",
    "columns = 1\n",
    "\n",
    "for i in range(1):\n",
    "    image = new_images[0].reshape(img_width, img_height)\n",
    "    plt.subplot(1, 1, 1)\n",
    "    plt.imshow(image, cmap=\"gist_gray\")\n"
   ]
  },
  {
   "cell_type": "code",
   "execution_count": null,
   "metadata": {},
   "outputs": [],
   "source": [
    "U, s, V = linalg.svd(new_images);"
   ]
  },
  {
   "cell_type": "code",
   "execution_count": null,
   "metadata": {},
   "outputs": [],
   "source": [
    "plt.figure(figsize=(20, 132))\n",
    "columns = 5\n",
    "\n",
    "for i in range(165):\n",
    "    image = V[i].reshape(img_width, img_height)\n",
    "    plt.subplot(165 / columns, columns, i + 1)\n",
    "    plt.imshow(image, cmap=\"gist_gray\")"
   ]
  },
  {
   "cell_type": "code",
   "execution_count": null,
   "metadata": {},
   "outputs": [],
   "source": [
    "print(mean_image)\n",
    "print(new_images[0])\n",
    "\n",
    "plt.figure(figsize=(20, 132))\n",
    "columns = 2;\n",
    "\n",
    "for i in range(1):\n",
    "    plt.subplot(1, columns, i + 1)\n",
    "    plt.imshow(mean_image, cmap=\"gist_gray\")"
   ]
  },
  {
   "cell_type": "code",
   "execution_count": null,
   "metadata": {},
   "outputs": [],
   "source": [
    "vectorized_images = [np.reshape(image, (img_width * img_height, )) for image in images]\n",
    "eigenfaces = [np.reshape(image, (img_width, img_height)) for image in V]\n",
    "\n",
    "num_eigenfaces = 165\n",
    "reconstructed_faces = []\n",
    "\n",
    "for i in range(165):\n",
    "    sub_img = vectorized_images[i] - np.reshape(mean_image, (img_width * img_height, ))\n",
    "\n",
    "    real_image = np.copy(mean_image)\n",
    "    test_image = np.copy(mean_image)    \n",
    "\n",
    "    coeffs = []\n",
    "    for j in range(num_eigenfaces):\n",
    "        coeffs.append(np.dot(sub_img, V[j]))\n",
    "\n",
    "    for j in range(num_eigenfaces):\n",
    "        test_image += (coeffs[j] * eigenfaces[j])\n",
    "        \n",
    "    reconstructed_faces.append(test_image)\n",
    "\n",
    "\n",
    "plt.figure(figsize=(10, 600))\n",
    "columns = 2;\n",
    "\n",
    "for i in range(165):\n",
    "    plt.subplot(165, columns, 2*i + 1)\n",
    "    plt.imshow(images[i], cmap=\"gist_gray\")\n",
    "    plt.subplot(165, columns, 2*i + 2)\n",
    "    plt.imshow(reconstructed_faces[i], cmap=\"gist_gray\")\n"
   ]
  },
  {
   "cell_type": "code",
   "execution_count": null,
   "metadata": {},
   "outputs": [],
   "source": []
  }
 ],
 "metadata": {
  "kernelspec": {
   "display_name": "Python 3",
   "language": "python",
   "name": "python3"
  },
  "language_info": {
   "codemirror_mode": {
    "name": "ipython",
    "version": 3
   },
   "file_extension": ".py",
   "mimetype": "text/x-python",
   "name": "python",
   "nbconvert_exporter": "python",
   "pygments_lexer": "ipython3",
   "version": "3.7.4"
  }
 },
 "nbformat": 4,
 "nbformat_minor": 4
}
